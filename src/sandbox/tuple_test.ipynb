{
 "cells": [
  {
   "cell_type": "code",
   "execution_count": 1,
   "metadata": {},
   "outputs": [],
   "source": [
    "# lst = [(x,y) for x in range(6) for y in range(6)]\n",
    "lst = []\n",
    "for i in range(6):\n",
    "    tmp = []\n",
    "    for j in range(6):\n",
    "        tmp.append((j,i))\n",
    "    lst.append(tmp)\n",
    "a = (0,0)\n",
    "b = (5,0)\n",
    "c = (5,5)\n",
    "d = (0,5)\n",
    "edges = [a,b,c,d]"
   ]
  },
  {
   "cell_type": "code",
   "execution_count": 2,
   "metadata": {},
   "outputs": [
    {
     "name": "stdout",
     "output_type": "stream",
     "text": [
      "all Edges in\n"
     ]
    }
   ],
   "source": [
    "len_x = len(lst[0])\n",
    "len_y = len(lst)\n",
    "\n",
    "edge_cntr = 0\n",
    "for e in edges:\n",
    "    if e < (len_x,len_y) and e >= (0,0):\n",
    "        edge_cntr += 1\n",
    "if edge_cntr == len(edges):\n",
    "    print(\"all Edges in\")\n",
    "else:\n",
    "    print(\"Failed Edge Test\")"
   ]
  },
  {
   "cell_type": "code",
   "execution_count": 5,
   "metadata": {},
   "outputs": [
    {
     "name": "stdout",
     "output_type": "stream",
     "text": [
      "alle tests bestanden\n"
     ]
    }
   ],
   "source": [
    "neg_test = [(-1,-1), (0,-1), (2,-1), (5,-1), (6,-1),\n",
    "            (6,0), (6,2), (6,5), (6,6), \n",
    "            (5,6), (2,6), (0,6), (-1,6),\n",
    "            (-1,5), (-1,2), (-1,0)]\n",
    "\n",
    "cntr = 0\n",
    "tmp = []\n",
    "\n",
    "for e in neg_test:\n",
    "    if e > (len_x, len_y) and e <= (0,0):\n",
    "        tmp.append(e)\n",
    "    else:\n",
    "        cntr += 1\n",
    "if cntr == len(neg_test):\n",
    "    print(\"alle tests bestanden\")\n",
    "else:\n",
    "    print(f\"Test bei folgenden Tupel Fehlgeschlagen: {tmp}\")"
   ]
  }
 ],
 "metadata": {
  "kernelspec": {
   "display_name": ".env",
   "language": "python",
   "name": "python3"
  },
  "language_info": {
   "codemirror_mode": {
    "name": "ipython",
    "version": 3
   },
   "file_extension": ".py",
   "mimetype": "text/x-python",
   "name": "python",
   "nbconvert_exporter": "python",
   "pygments_lexer": "ipython3",
   "version": "3.10.4"
  },
  "orig_nbformat": 4,
  "vscode": {
   "interpreter": {
    "hash": "a8739528da807e994ce40aacf2ff899b22664aec15f51dfd85d3d0709166d104"
   }
  }
 },
 "nbformat": 4,
 "nbformat_minor": 2
}
